{
 "cells": [
  {
   "cell_type": "markdown",
   "metadata": {},
   "source": [
    "### Per poter scaricare il dataset dobbiamo partire con questo comando\n",
    "## !pip install kaggle --upgrade"
   ]
  },
  {
   "cell_type": "code",
   "execution_count": null,
   "metadata": {},
   "outputs": [],
   "source": [
    "# Facciamo il login tramite token su Kaggle\n",
    "\n",
    "from kaggle.api.kaggle_api_extended import KaggleApi\n",
    "api = KaggleApi()\n",
    "api.authenticate()"
   ]
  },
  {
   "cell_type": "code",
   "execution_count": null,
   "metadata": {},
   "outputs": [],
   "source": [
    "# scarichiamo il dataset\n",
    "\n",
    "!kaggle competitions download -c dogs-vs-cats"
   ]
  },
  {
   "cell_type": "code",
   "execution_count": 2,
   "metadata": {},
   "outputs": [],
   "source": [
    "# Import\n",
    "\n",
    "import os\n",
    "import numpy as np\n",
    "import pandas as pd\n",
    "from sklearn.model_selection import train_test_split\n",
    "import tensorflow as tf\n",
    "from tensorflow import keras\n",
    "from tensorflow.keras import layers\n",
    "\n"
   ]
  },
  {
   "cell_type": "code",
   "execution_count": null,
   "metadata": {},
   "outputs": [],
   "source": [
    "print(tf.__version__)"
   ]
  },
  {
   "cell_type": "code",
   "execution_count": 32,
   "metadata": {},
   "outputs": [],
   "source": [
    "# Spacchettiamo  il dataset dallo zip\n",
    "\n",
    "main = \"dogs-vs-cats.zip\"\n",
    "train = \"train.zip\"\n",
    "test = \"test1.zip\"\n",
    "cartella_principale = \"DOGvsCATS/\"\n",
    "files = \"dataset/\"\n",
    "\n",
    "import zipfile\n",
    "\n",
    "if os.path.isfile(train) and os.path.isfile(test) == True:\n",
    "    pass\n",
    "else:\n",
    "    with zipfile.ZipFile(main,\"r\") as zipp:\n",
    "        zipp.extractall()\n",
    "    if os.path.isdir(\"train\") and os.path.isdir(\"test1\") == True:\n",
    "        pass\n",
    "    else:\n",
    "        with zipfile.ZipFile(train, \"r\") as zipp:\n",
    "            zipp.extractall(files)\n",
    "\n",
    "        with zipfile.ZipFile(test, \"r\") as zipp:\n",
    "            zipp.extractall(files)"
   ]
  },
  {
   "cell_type": "code",
   "execution_count": null,
   "metadata": {},
   "outputs": [],
   "source": []
  },
  {
   "cell_type": "code",
   "execution_count": 3,
   "metadata": {},
   "outputs": [
    {
     "data": {
      "text/html": [
       "<div>\n",
       "<style scoped>\n",
       "    .dataframe tbody tr th:only-of-type {\n",
       "        vertical-align: middle;\n",
       "    }\n",
       "\n",
       "    .dataframe tbody tr th {\n",
       "        vertical-align: top;\n",
       "    }\n",
       "\n",
       "    .dataframe thead th {\n",
       "        text-align: right;\n",
       "    }\n",
       "</style>\n",
       "<table border=\"1\" class=\"dataframe\">\n",
       "  <thead>\n",
       "    <tr style=\"text-align: right;\">\n",
       "      <th></th>\n",
       "      <th>Nome_File</th>\n",
       "      <th>Specie</th>\n",
       "    </tr>\n",
       "  </thead>\n",
       "  <tbody>\n",
       "    <tr>\n",
       "      <th>0</th>\n",
       "      <td>cat.0.jpg</td>\n",
       "      <td>cat</td>\n",
       "    </tr>\n",
       "    <tr>\n",
       "      <th>1</th>\n",
       "      <td>cat.1.jpg</td>\n",
       "      <td>cat</td>\n",
       "    </tr>\n",
       "    <tr>\n",
       "      <th>2</th>\n",
       "      <td>cat.10.jpg</td>\n",
       "      <td>cat</td>\n",
       "    </tr>\n",
       "    <tr>\n",
       "      <th>3</th>\n",
       "      <td>cat.100.jpg</td>\n",
       "      <td>cat</td>\n",
       "    </tr>\n",
       "    <tr>\n",
       "      <th>4</th>\n",
       "      <td>cat.1000.jpg</td>\n",
       "      <td>cat</td>\n",
       "    </tr>\n",
       "    <tr>\n",
       "      <th>...</th>\n",
       "      <td>...</td>\n",
       "      <td>...</td>\n",
       "    </tr>\n",
       "    <tr>\n",
       "      <th>24995</th>\n",
       "      <td>dog.9995.jpg</td>\n",
       "      <td>dog</td>\n",
       "    </tr>\n",
       "    <tr>\n",
       "      <th>24996</th>\n",
       "      <td>dog.9996.jpg</td>\n",
       "      <td>dog</td>\n",
       "    </tr>\n",
       "    <tr>\n",
       "      <th>24997</th>\n",
       "      <td>dog.9997.jpg</td>\n",
       "      <td>dog</td>\n",
       "    </tr>\n",
       "    <tr>\n",
       "      <th>24998</th>\n",
       "      <td>dog.9998.jpg</td>\n",
       "      <td>dog</td>\n",
       "    </tr>\n",
       "    <tr>\n",
       "      <th>24999</th>\n",
       "      <td>dog.9999.jpg</td>\n",
       "      <td>dog</td>\n",
       "    </tr>\n",
       "  </tbody>\n",
       "</table>\n",
       "<p>25000 rows × 2 columns</p>\n",
       "</div>"
      ],
      "text/plain": [
       "          Nome_File Specie\n",
       "0         cat.0.jpg    cat\n",
       "1         cat.1.jpg    cat\n",
       "2        cat.10.jpg    cat\n",
       "3       cat.100.jpg    cat\n",
       "4      cat.1000.jpg    cat\n",
       "...             ...    ...\n",
       "24995  dog.9995.jpg    dog\n",
       "24996  dog.9996.jpg    dog\n",
       "24997  dog.9997.jpg    dog\n",
       "24998  dog.9998.jpg    dog\n",
       "24999  dog.9999.jpg    dog\n",
       "\n",
       "[25000 rows x 2 columns]"
      ]
     },
     "execution_count": 3,
     "metadata": {},
     "output_type": "execute_result"
    }
   ],
   "source": [
    "# Creiamo un dataframe per poter modellare i dati\n",
    "\n",
    "dataset_train_path = \"dataset/train/\"\n",
    "\n",
    "nomefile = os.listdir(dataset_train_path)\n",
    "specie = [x.split(\".\")[0] for x in nomefile]\n",
    "\n",
    "dati = pd.DataFrame({\"Nome_File\": nomefile, \"Specie\":specie})\n",
    "\n",
    "#dati[\"Specie\"] = dati[\"Specie\"].replace([\"cat\",\"dog\"],[0,1])\n",
    "\n",
    "\n",
    "dati"
   ]
  },
  {
   "cell_type": "code",
   "execution_count": 6,
   "metadata": {},
   "outputs": [
    {
     "name": "stdout",
     "output_type": "stream",
     "text": [
      "Then number of cat images in training data is 11979\n",
      "Then number of dog images in training data is 12012\n",
      "Then number of cat images in validation data is 4584\n",
      "Then number of dog images in validation data is 4569\n"
     ]
    }
   ],
   "source": [
    "# main = \"dogs-vs-cats.zip\"\n",
    "# train = \"train.zip\"\n",
    "# test = \"test1.zip\"\n",
    "# cartella_principale = \"DOGvsCATS/\"\n",
    "# files = \"working/\"\n",
    "\n",
    "# train_path = \"working/train\"\n",
    "# test_path = \"working/test\"\n",
    "\n",
    "train_path = \"working/train/\"\n",
    "test_path = \"working/test/\"\n",
    "\n",
    "# Separiamo le immagini per cani e gatti\n",
    "from os import makedirs, listdir\n",
    "from random import random\n",
    "from shutil import copyfile\n",
    "\n",
    "cartel= [train_path, test_path]\n",
    "# Creazione sottocartelle\n",
    "for i in cartel:\n",
    "    nome_cartel=[\"/cani/\",\"/gatti/\"]\n",
    "    for j in nome_cartel:\n",
    "        nuova_cartel = i+j\n",
    "        makedirs(nuova_cartel, exist_ok=True)\n",
    "        \n",
    "# Percentuale di immagini per validare il training\n",
    "valutazione = 0.2\n",
    "\n",
    "# Copia delle immagini nelle sottocartelle\n",
    "src_dir = \"dataset/\"\n",
    "source = \"dataset/train/\"\n",
    "for immagine in listdir(source):\n",
    "    src=src_dir+\"train/\"+immagine\n",
    "    destinazione=\"working/train/\"\n",
    "    if random()< valutazione: \n",
    "        destinazione=\"working/test/\"\n",
    "    if immagine.startswith(\"cat\"):\n",
    "        dest = destinazione + \"gatti/\" + immagine\n",
    "        copyfile(src, dest)\n",
    "    elif immagine.startswith(\"dog\"):\n",
    "        dest = destinazione + \"cani/\" + immagine\n",
    "        copyfile(src, dest)\n",
    "\n",
    "\n",
    "path1 = \"working/train/gatti\"\n",
    "path2= \"working/train/cani\"\n",
    "path3= \"working/test/gatti\"\n",
    "path4= \"working/test/cani\"\n",
    "\n",
    "print('Ci sono ' ,len(os.listdir(path1)),' immagini di gatti in training')\n",
    "print('Ci sono ' ,len(os.listdir(path2)),' immagini di cani in training')\n",
    "print('Ci sono ' ,len(os.listdir(path3)),' immagini di gatti in test')\n",
    "print('Ci sono ' ,len(os.listdir(path4)),' immagini di cani in test')"
   ]
  },
  {
   "cell_type": "markdown",
   "metadata": {},
   "source": []
  },
  {
   "cell_type": "code",
   "execution_count": 22,
   "metadata": {},
   "outputs": [
    {
     "name": "stdout",
     "output_type": "stream",
     "text": [
      "Found 23991 files belonging to 2 classes.\n",
      "Found 9153 files belonging to 2 classes.\n"
     ]
    }
   ],
   "source": [
    "# creiamo i generatori\n",
    "grandezza_immagine = 128\n",
    "\n",
    "\n",
    "train_gen = keras.utils.image_dataset_from_directory(\n",
    "    directory= \"working/train\",\n",
    "    labels=\"inferred\",\n",
    "    label_mode=\"binary\",\n",
    "    batch_size=32,\n",
    "    image_size=(grandezza_immagine,grandezza_immagine)\n",
    ")\n",
    "\n",
    "test_gen = keras.utils.image_dataset_from_directory(\n",
    "    directory= \"working/test\",\n",
    "    labels=\"inferred\",\n",
    "    label_mode=\"binary\",\n",
    "    batch_size=32,\n",
    "    image_size=(grandezza_immagine,grandezza_immagine)\n",
    ")                                                                  "
   ]
  },
  {
   "cell_type": "code",
   "execution_count": 24,
   "metadata": {},
   "outputs": [],
   "source": [
    "# Creiamo il modello sequenziale\n",
    "modello = keras.Sequential()\n",
    "modello.add(layers.Conv2D(32, (3,3), input_shape=(grandezza_immagine,grandezza_immagine,3), activation=\"relu\"))\n",
    "modello.add(layers.MaxPooling2D((2,2)))\n",
    "modello.add(layers.Conv2D(64,(3,3),activation=\"relu\"))\n",
    "modello.add(layers.MaxPooling2D((2,2)))\n",
    "modello.add(layers.Conv2D(128,(3,3),activation=\"relu\"))\n",
    "modello.add(layers.MaxPooling2D((2,2)))\n",
    "modello.add(layers.Conv2D(128,(3,3),activation=\"relu\"))\n",
    "modello.add(layers.Flatten())\n",
    "modello.add(layers.Dense(512, activation=\"relu\"))\n",
    "modello.add(layers.Dense(1, activation=\"softmax\"))\n",
    "\n",
    "# Compiliamo il modello\n",
    "modello.compile(optimizer = \"adam\", loss=\"binary_crossentropy\", metrics=[\"accuracy\"])\n",
    "\n",
    "modello.summary()"
   ]
  },
  {
   "cell_type": "code",
   "execution_count": 25,
   "metadata": {},
   "outputs": [
    {
     "name": "stdout",
     "output_type": "stream",
     "text": [
      "Epoch 1/10\n"
     ]
    },
    {
     "name": "stdout",
     "output_type": "stream",
     "text": [
      "750/750 [==============================] - 304s 404ms/step - loss: 1.9196 - accuracy: 0.4993 - val_loss: 0.6823 - val_accuracy: 0.5008\n",
      "Epoch 2/10\n",
      "750/750 [==============================] - 298s 397ms/step - loss: 0.6890 - accuracy: 0.4993 - val_loss: 0.7045 - val_accuracy: 0.5008\n",
      "Epoch 3/10\n",
      "750/750 [==============================] - 303s 404ms/step - loss: 0.7276 - accuracy: 0.4993 - val_loss: 0.6924 - val_accuracy: 0.5008\n",
      "Epoch 4/10\n",
      "750/750 [==============================] - 295s 393ms/step - loss: 0.6933 - accuracy: 0.4993 - val_loss: 0.6950 - val_accuracy: 0.5008\n",
      "Epoch 5/10\n",
      "750/750 [==============================] - 296s 395ms/step - loss: 0.6948 - accuracy: 0.4993 - val_loss: 0.6917 - val_accuracy: 0.5008\n",
      "Epoch 6/10\n",
      "750/750 [==============================] - 294s 392ms/step - loss: 0.6926 - accuracy: 0.4993 - val_loss: 0.8365 - val_accuracy: 0.5008\n",
      "Epoch 7/10\n",
      "750/750 [==============================] - 285s 380ms/step - loss: 0.6919 - accuracy: 0.4993 - val_loss: 0.6905 - val_accuracy: 0.5008\n",
      "Epoch 8/10\n",
      "750/750 [==============================] - 291s 388ms/step - loss: 0.6931 - accuracy: 0.4993 - val_loss: 0.6930 - val_accuracy: 0.5008\n",
      "Epoch 9/10\n",
      "750/750 [==============================] - 307s 409ms/step - loss: 0.6928 - accuracy: 0.4993 - val_loss: 0.6928 - val_accuracy: 0.5008\n",
      "Epoch 10/10\n",
      "750/750 [==============================] - 293s 391ms/step - loss: 0.6915 - accuracy: 0.4993 - val_loss: 0.6919 - val_accuracy: 0.5008\n"
     ]
    },
    {
     "data": {
      "text/plain": [
       "<keras.callbacks.History at 0x2ae176f6610>"
      ]
     },
     "execution_count": 25,
     "metadata": {},
     "output_type": "execute_result"
    }
   ],
   "source": [
    "# Addestriamo il modello\n",
    "modello.fit(train_gen, epochs = 10, validation_data=test_gen)"
   ]
  }
 ],
 "metadata": {
  "kernelspec": {
   "display_name": ".venv",
   "language": "python",
   "name": "python3"
  },
  "language_info": {
   "codemirror_mode": {
    "name": "ipython",
    "version": 3
   },
   "file_extension": ".py",
   "mimetype": "text/x-python",
   "name": "python",
   "nbconvert_exporter": "python",
   "pygments_lexer": "ipython3",
   "version": "3.11.3"
  },
  "orig_nbformat": 4
 },
 "nbformat": 4,
 "nbformat_minor": 2
}
